{
 "cells": [
  {
   "cell_type": "code",
   "execution_count": 19,
   "metadata": {},
   "outputs": [],
   "source": [
    "import tensorflow as tf\n",
    "import pandas as pd\n",
    "import numpy as np\n",
    "import matplotlib.pyplot as plt"
   ]
  },
  {
   "cell_type": "code",
   "execution_count": 20,
   "metadata": {},
   "outputs": [
    {
     "data": {
      "text/plain": [
       "['Acne', 'Carcinoma', 'Eczema', 'Keratosis', 'Milia', 'Rosacea']"
      ]
     },
     "execution_count": 20,
     "metadata": {},
     "output_type": "execute_result"
    }
   ],
   "source": [
    "from pathlib import Path\n",
    "\n",
    "path=Path('C:/Users/DELL/Desktop/GROUP_PROGECT/Skin_Conditions')\n",
    "\n",
    "cancerType=[]\n",
    "for item in path.iterdir():\n",
    "    if item.is_dir():\n",
    "        cancerType.append(item.name)\n",
    "\n",
    "cancerType"
   ]
  },
  {
   "cell_type": "code",
   "execution_count": 21,
   "metadata": {},
   "outputs": [],
   "source": [
    "df=pd.DataFrame(columns=('Image','CancerType'))"
   ]
  },
  {
   "cell_type": "code",
   "execution_count": 22,
   "metadata": {},
   "outputs": [
    {
     "data": {
      "text/html": [
       "<div>\n",
       "<style scoped>\n",
       "    .dataframe tbody tr th:only-of-type {\n",
       "        vertical-align: middle;\n",
       "    }\n",
       "\n",
       "    .dataframe tbody tr th {\n",
       "        vertical-align: top;\n",
       "    }\n",
       "\n",
       "    .dataframe thead th {\n",
       "        text-align: right;\n",
       "    }\n",
       "</style>\n",
       "<table border=\"1\" class=\"dataframe\">\n",
       "  <thead>\n",
       "    <tr style=\"text-align: right;\">\n",
       "      <th></th>\n",
       "      <th>Image</th>\n",
       "      <th>CancerType</th>\n",
       "    </tr>\n",
       "  </thead>\n",
       "  <tbody>\n",
       "    <tr>\n",
       "      <th>0</th>\n",
       "      <td>Acne_1.jpg</td>\n",
       "      <td>Acne</td>\n",
       "    </tr>\n",
       "    <tr>\n",
       "      <th>1</th>\n",
       "      <td>Acne_10.jpg</td>\n",
       "      <td>Acne</td>\n",
       "    </tr>\n",
       "    <tr>\n",
       "      <th>2</th>\n",
       "      <td>Acne_100.jpg</td>\n",
       "      <td>Acne</td>\n",
       "    </tr>\n",
       "    <tr>\n",
       "      <th>3</th>\n",
       "      <td>Acne_101.jpg</td>\n",
       "      <td>Acne</td>\n",
       "    </tr>\n",
       "    <tr>\n",
       "      <th>4</th>\n",
       "      <td>Acne_102.jpg</td>\n",
       "      <td>Acne</td>\n",
       "    </tr>\n",
       "    <tr>\n",
       "      <th>...</th>\n",
       "      <td>...</td>\n",
       "      <td>...</td>\n",
       "    </tr>\n",
       "    <tr>\n",
       "      <th>2389</th>\n",
       "      <td>Rosacea_95.jpg</td>\n",
       "      <td>Rosacea</td>\n",
       "    </tr>\n",
       "    <tr>\n",
       "      <th>2390</th>\n",
       "      <td>Rosacea_96.jpg</td>\n",
       "      <td>Rosacea</td>\n",
       "    </tr>\n",
       "    <tr>\n",
       "      <th>2391</th>\n",
       "      <td>Rosacea_97.jpg</td>\n",
       "      <td>Rosacea</td>\n",
       "    </tr>\n",
       "    <tr>\n",
       "      <th>2392</th>\n",
       "      <td>Rosacea_98.jpg</td>\n",
       "      <td>Rosacea</td>\n",
       "    </tr>\n",
       "    <tr>\n",
       "      <th>2393</th>\n",
       "      <td>Rosacea_99.jpg</td>\n",
       "      <td>Rosacea</td>\n",
       "    </tr>\n",
       "  </tbody>\n",
       "</table>\n",
       "<p>2394 rows × 2 columns</p>\n",
       "</div>"
      ],
      "text/plain": [
       "               Image CancerType\n",
       "0         Acne_1.jpg       Acne\n",
       "1        Acne_10.jpg       Acne\n",
       "2       Acne_100.jpg       Acne\n",
       "3       Acne_101.jpg       Acne\n",
       "4       Acne_102.jpg       Acne\n",
       "...              ...        ...\n",
       "2389  Rosacea_95.jpg    Rosacea\n",
       "2390  Rosacea_96.jpg    Rosacea\n",
       "2391  Rosacea_97.jpg    Rosacea\n",
       "2392  Rosacea_98.jpg    Rosacea\n",
       "2393  Rosacea_99.jpg    Rosacea\n",
       "\n",
       "[2394 rows x 2 columns]"
      ]
     },
     "execution_count": 22,
     "metadata": {},
     "output_type": "execute_result"
    }
   ],
   "source": [
    "images=[]\n",
    "cancer=[]\n",
    "for direc in cancerType:\n",
    "    cancerImages=Path(f'C:/Users/DELL/Desktop/GROUP_PROGECT/Skin_Conditions/{direc}')\n",
    "    for file in cancerImages.iterdir():\n",
    "        if file.is_file():\n",
    "            images.append(file.name)\n",
    "            cancer.append(direc)\n",
    "            \n",
    "df['Image']=images\n",
    "df['CancerType']=cancer\n",
    "        \n",
    "df             "
   ]
  },
  {
   "cell_type": "code",
   "execution_count": 23,
   "metadata": {},
   "outputs": [],
   "source": [
    "df.to_csv('C:/Users/DELL/Desktop/GROUP_PROGECT/datasets/SkinDataset.csv',index=False)"
   ]
  },
  {
   "cell_type": "code",
   "execution_count": null,
   "metadata": {},
   "outputs": [],
   "source": []
  }
 ],
 "metadata": {
  "kernelspec": {
   "display_name": "base",
   "language": "python",
   "name": "python3"
  },
  "language_info": {
   "codemirror_mode": {
    "name": "ipython",
    "version": 3
   },
   "file_extension": ".py",
   "mimetype": "text/x-python",
   "name": "python",
   "nbconvert_exporter": "python",
   "pygments_lexer": "ipython3",
   "version": "3.12.4"
  }
 },
 "nbformat": 4,
 "nbformat_minor": 2
}
